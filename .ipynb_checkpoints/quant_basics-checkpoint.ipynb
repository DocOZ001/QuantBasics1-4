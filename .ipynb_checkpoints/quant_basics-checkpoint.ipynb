{
 "metadata": {
  "name": "",
  "signature": "sha256:b2d1c0ad07619f4c2f6195b36a04593a9f85e57016ba8aee974771e157cb80a8"
 },
 "nbformat": 3,
 "nbformat_minor": 0,
 "worksheets": [
  {
   "cells": [
    {
     "cell_type": "markdown",
     "metadata": {},
     "source": [
      "# Moving Average Crossover Vectorised Backtest"
     ]
    },
    {
     "cell_type": "code",
     "collapsed": false,
     "input": [
      "import pandas as pd\n",
      "import pandas_datareader.data as web\n",
      "import matplotlib.pyplot as plt\n",
      "from dateutil.parser import parse\n",
      "import cPickle\n",
      "import numpy as np\n",
      "from sklearn.preprocessing import MinMaxScaler\n",
      "from sklearn.cluster import KMeans, AgglomerativeClustering\n",
      "import datetime"
     ],
     "language": "python",
     "metadata": {},
     "outputs": [],
     "prompt_number": 1
    },
    {
     "cell_type": "markdown",
     "metadata": {},
     "source": [
      "## Importing and scaling prices"
     ]
    },
    {
     "cell_type": "code",
     "collapsed": false,
     "input": [
      "def prices(tickers,start,end,backend='google'):\n",
      "    if backend == 'quantopian':\n",
      "        p = get_pricing(tickers,start,end)\n",
      "        field = 'price'\n",
      "\n",
      "    elif backend == 'google':\n",
      "        p = web.DataReader(tickers, 'google', parse(start), parse(end)).ffill()\n",
      "        field = 'Close'\n",
      "        cPickle.dump(p,open('prices.pick','w'))\n",
      "\n",
      "    elif backend == 'random':\n",
      "        field = 'Close'\n",
      "        p = web.DataReader(tickers, 'google', parse(start), parse(end)).ffill()\n",
      "        for ticker in tickers:\n",
      "            p[field][ticker] = np.cumsum(np.random.randn(len(p[field][ticker]))-0.0)+500\n",
      "\n",
      "    elif backend == 'file':\n",
      "        p = cPickle.load(open('prices.pick'))\n",
      "        p = p.loc[:,parse(start):parse(end)]\n",
      "        field = 'Close'\n",
      "\n",
      "\n",
      "    # pp=pd.DataFrame(p[field],index=p[field].index,columns = tickers)\n",
      "    scaled = MinMaxScaler((0,1)).fit_transform(p[field])\n",
      "    pp=pd.DataFrame(scaled,index=p[field].index,columns = tickers)\n",
      "    return pp\n",
      "\n"
     ],
     "language": "python",
     "metadata": {},
     "outputs": [],
     "prompt_number": 2
    },
    {
     "cell_type": "markdown",
     "metadata": {},
     "source": [
      "## Calculation of MA-Crossover signals"
     ]
    },
    {
     "cell_type": "code",
     "collapsed": false,
     "input": [
      "def calc_signals(tickers,p,a,b):\n",
      "    sma = p.rolling(a).mean()\n",
      "    smb = p.rolling(b).mean()\n",
      "    signal = np.sign(sma - smb).diff()\n",
      "    actual_signals = signal.dropna(how='all',axis=0)\n",
      "    for col in actual_signals.columns:\n",
      "        idx = actual_signals[col].first_valid_index()\n",
      "        signal[col][idx] = signal[col][idx]/2.\n",
      "    return signal"
     ],
     "language": "python",
     "metadata": {},
     "outputs": [],
     "prompt_number": 3
    },
    {
     "cell_type": "markdown",
     "metadata": {},
     "source": [
      "## Calculation of PnL for prices and signals"
     ]
    },
    {
     "cell_type": "code",
     "collapsed": false,
     "input": [
      "def calc_pnl(sig,p):\n",
      "    sig_up = sig.cumsum().apply(lambda x:x*(x>0))\n",
      "    sig_dwn = sig.cumsum().apply(lambda x:x*(x<0))\n",
      "    pnlx = np.cumsum(p.diff()*sig_up+p.diff()*sig_dwn).sum(axis=1)\n",
      "    return pnlx"
     ],
     "language": "python",
     "metadata": {},
     "outputs": [],
     "prompt_number": 4
    },
    {
     "cell_type": "markdown",
     "metadata": {},
     "source": [
      "## Calculation of Sharpe ratio for prices and signals"
     ]
    },
    {
     "cell_type": "code",
     "collapsed": false,
     "input": [
      "def calc_sharpe(pnl):\n",
      "    retsx = np.diff(pnl)\n",
      "    retsx = retsx[~np.isinf(retsx)]\n",
      "    sharpe = np.nanmean(retsx)/np.nanstd(retsx)*np.sqrt(252)\n",
      "    return sharpe"
     ],
     "language": "python",
     "metadata": {},
     "outputs": [],
     "prompt_number": 9
    },
    {
     "cell_type": "markdown",
     "metadata": {},
     "source": [
      "## Calculation of drawdown for prices and signals"
     ]
    },
    {
     "cell_type": "code",
     "collapsed": false,
     "input": [
      "def calc_ddwn(pnl):\n",
      "    hwm = 0\n",
      "    ddwn = []\n",
      "    for i in pnl:\n",
      "        if i>hwm:\n",
      "            hwm = i\n",
      "        ddwn.append(i - hwm)\n",
      "    return np.nanmin(ddwn)"
     ],
     "language": "python",
     "metadata": {},
     "outputs": [],
     "prompt_number": 10
    },
    {
     "cell_type": "markdown",
     "metadata": {},
     "source": [
      "## Code for single run"
     ]
    },
    {
     "cell_type": "code",
     "collapsed": false,
     "input": [
      "def run_single(tickers, p):\n",
      "    sig = calc_signals(tickers,p,10,20)\n",
      "    pnl = calc_pnl(sig,p)\n",
      "    sharpe = calc_sharpe(pnl)\n",
      "    ddwn = calc_ddwn(pnl)\n",
      "    return pnl,sharpe,ddwn"
     ],
     "language": "python",
     "metadata": {},
     "outputs": [],
     "prompt_number": 7
    },
    {
     "cell_type": "markdown",
     "metadata": {},
     "source": [
      "## Get the price data"
     ]
    },
    {
     "cell_type": "code",
     "collapsed": false,
     "input": [
      "# BACKEND = 'google'\n",
      "BACKEND = 'file'\n",
      "tickers = ['AAPL','MSFT','CSCO','XOM']\n",
      "start = '2003-01-01'\n",
      "end = '2017-06-01'\n",
      "p = prices(tickers,start,end,backend=BACKEND)\n",
      "p.plot()\n",
      "p.show()\n"
     ],
     "language": "python",
     "metadata": {},
     "outputs": [],
     "prompt_number": 13
    },
    {
     "cell_type": "markdown",
     "metadata": {},
     "source": [
      "## Run single backtest"
     ]
    },
    {
     "cell_type": "code",
     "collapsed": false,
     "input": [
      "pnl,sharpe,ddwn = run_single(tickers,p)\n",
      "plt.plot(pnl)\n",
      "plt.show()"
     ],
     "language": "python",
     "metadata": {},
     "outputs": [],
     "prompt_number": 14
    },
    {
     "cell_type": "markdown",
     "metadata": {},
     "source": [
      "## Test the functions"
     ]
    },
    {
     "cell_type": "code",
     "collapsed": false,
     "input": [
      "def test_pnl():\n",
      "    rets = np.zeros(1000)\n",
      "    rets[500] = 1\n",
      "    pr = np.cumsum(rets)\n",
      "\n",
      "    df = pd.DataFrame(pr)\n",
      "    sig = calc_signals(1,df,10,20)\n",
      "    pnl = calc_pnl(sig,df)\n",
      "    plt.subplot(3,1,1)\n",
      "    plt.plot(df)\n",
      "    plt.ylabel('price')\n",
      "    plt.subplot(3,1,2)\n",
      "    plt.plot(sig)\n",
      "    plt.ylabel('signal')\n",
      "    plt.subplot(3,1,3)\n",
      "    plt.plot(pnl)\n",
      "    plt.ylabel('pnl')\n",
      "    plt.xlabel('time')\n",
      "    plt.show()"
     ],
     "language": "python",
     "metadata": {},
     "outputs": [],
     "prompt_number": 5
    },
    {
     "cell_type": "code",
     "collapsed": false,
     "input": [
      "def test_ddwn():\n",
      "    k = np.random.randn(1000)\n",
      "    ddwn = calc_ddwn(np.cumsum(k))\n",
      "    plt.plot(np.cumsum(k))\n",
      "    plt.xlabel('time')\n",
      "    plt.ylabel('price')\n",
      "    plt.title('drawdown: %s'%ddwn)\n",
      "    plt.show()"
     ],
     "language": "python",
     "metadata": {},
     "outputs": [],
     "prompt_number": 16
    },
    {
     "cell_type": "code",
     "collapsed": false,
     "input": [
      "test_pnl()\n",
      "test_ddwn()"
     ],
     "language": "python",
     "metadata": {},
     "outputs": [],
     "prompt_number": 17
    }
   ],
   "metadata": {}
  }
 ]
}