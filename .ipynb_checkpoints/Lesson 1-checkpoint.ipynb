{
 "metadata": {
  "name": "",
  "signature": "sha256:61d9b05ff9fb46d4d3cfa66b40b6035428bd173247196550329761f60bc75ee3"
 },
 "nbformat": 3,
 "nbformat_minor": 0,
 "worksheets": []
}